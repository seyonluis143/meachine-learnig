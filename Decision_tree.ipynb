{
 "cells": [
  {
   "cell_type": "code",
   "execution_count": 19,
   "metadata": {
    "collapsed": true
   },
   "outputs": [],
   "source": [
    "import pandas as pd\n",
    "from sklearn.model_selection import train_test_split\n",
    "from sklearn.tree import DecisionTreeClassifier"
   ]
  },
  {
   "cell_type": "code",
   "execution_count": 20,
   "outputs": [
    {
     "data": {
      "text/plain": "   word_freq_make  word_freq_address  word_freq_all  word_freq_3d  \\\n0       -0.347922           1.161025       0.675889     -0.046644   \n1        0.352150           0.368433       0.404391     -0.046644   \n2       -0.147901          -0.248027       0.811639     -0.046644   \n3       -0.347922          -0.248027      -0.565245     -0.046644   \n4       -0.347922          -0.248027      -0.565245     -0.046644   \n\n   word_freq_our  word_freq_over  word_freq_remove  word_freq_internet  \\\n0      -0.007737       -0.350205         -0.295731           -0.263265   \n1      -0.269470        0.664297          0.232922           -0.092630   \n2       1.315470        0.338207          0.182574            0.029252   \n3       0.443026       -0.350205          0.484661            1.272445   \n4       0.443026       -0.350205          0.484661            1.272445   \n\n   word_freq_order  word_freq_mail  ...  char_freq_;  char_freq_(  \\\n0        -0.325617       -0.378366  ...    -0.160010    -0.525294   \n1        -0.325617        1.053337  ...    -0.160010    -0.043936   \n2         1.943000        0.002406  ...    -0.120407    -0.003822   \n3         0.773244        0.581180  ...    -0.160010    -0.025702   \n4         0.773244        0.581180  ...    -0.160010    -0.032996   \n\n   char_freq_[  char_freq_!  char_freq_$  char_freq_#  \\\n0    -0.164364     0.589246    -0.317325    -0.105071   \n1    -0.164364     0.107759     0.433676     0.005053   \n2    -0.164364    -0.006090     0.450365    -0.082129   \n3    -0.164364    -0.170935    -0.317325    -0.105071   \n4    -0.164364    -0.173306    -0.317325    -0.105071   \n\n   capital_run_length_average  capital_run_length_longest  \\\n0                   -0.049117                    0.044398   \n1                   -0.008143                    0.244841   \n2                    0.133876                    2.169089   \n3                   -0.055724                   -0.060834   \n4                   -0.055724                   -0.060834   \n\n   capital_run_length_total  spam  \n0                 -0.021310  spam  \n1                  1.191142  spam  \n2                  3.181179  spam  \n3                 -0.161954  spam  \n4                 -0.161954  spam  \n\n[5 rows x 58 columns]",
      "text/html": "<div>\n<style scoped>\n    .dataframe tbody tr th:only-of-type {\n        vertical-align: middle;\n    }\n\n    .dataframe tbody tr th {\n        vertical-align: top;\n    }\n\n    .dataframe thead th {\n        text-align: right;\n    }\n</style>\n<table border=\"1\" class=\"dataframe\">\n  <thead>\n    <tr style=\"text-align: right;\">\n      <th></th>\n      <th>word_freq_make</th>\n      <th>word_freq_address</th>\n      <th>word_freq_all</th>\n      <th>word_freq_3d</th>\n      <th>word_freq_our</th>\n      <th>word_freq_over</th>\n      <th>word_freq_remove</th>\n      <th>word_freq_internet</th>\n      <th>word_freq_order</th>\n      <th>word_freq_mail</th>\n      <th>...</th>\n      <th>char_freq_;</th>\n      <th>char_freq_(</th>\n      <th>char_freq_[</th>\n      <th>char_freq_!</th>\n      <th>char_freq_$</th>\n      <th>char_freq_#</th>\n      <th>capital_run_length_average</th>\n      <th>capital_run_length_longest</th>\n      <th>capital_run_length_total</th>\n      <th>spam</th>\n    </tr>\n  </thead>\n  <tbody>\n    <tr>\n      <th>0</th>\n      <td>-0.347922</td>\n      <td>1.161025</td>\n      <td>0.675889</td>\n      <td>-0.046644</td>\n      <td>-0.007737</td>\n      <td>-0.350205</td>\n      <td>-0.295731</td>\n      <td>-0.263265</td>\n      <td>-0.325617</td>\n      <td>-0.378366</td>\n      <td>...</td>\n      <td>-0.160010</td>\n      <td>-0.525294</td>\n      <td>-0.164364</td>\n      <td>0.589246</td>\n      <td>-0.317325</td>\n      <td>-0.105071</td>\n      <td>-0.049117</td>\n      <td>0.044398</td>\n      <td>-0.021310</td>\n      <td>spam</td>\n    </tr>\n    <tr>\n      <th>1</th>\n      <td>0.352150</td>\n      <td>0.368433</td>\n      <td>0.404391</td>\n      <td>-0.046644</td>\n      <td>-0.269470</td>\n      <td>0.664297</td>\n      <td>0.232922</td>\n      <td>-0.092630</td>\n      <td>-0.325617</td>\n      <td>1.053337</td>\n      <td>...</td>\n      <td>-0.160010</td>\n      <td>-0.043936</td>\n      <td>-0.164364</td>\n      <td>0.107759</td>\n      <td>0.433676</td>\n      <td>0.005053</td>\n      <td>-0.008143</td>\n      <td>0.244841</td>\n      <td>1.191142</td>\n      <td>spam</td>\n    </tr>\n    <tr>\n      <th>2</th>\n      <td>-0.147901</td>\n      <td>-0.248027</td>\n      <td>0.811639</td>\n      <td>-0.046644</td>\n      <td>1.315470</td>\n      <td>0.338207</td>\n      <td>0.182574</td>\n      <td>0.029252</td>\n      <td>1.943000</td>\n      <td>0.002406</td>\n      <td>...</td>\n      <td>-0.120407</td>\n      <td>-0.003822</td>\n      <td>-0.164364</td>\n      <td>-0.006090</td>\n      <td>0.450365</td>\n      <td>-0.082129</td>\n      <td>0.133876</td>\n      <td>2.169089</td>\n      <td>3.181179</td>\n      <td>spam</td>\n    </tr>\n    <tr>\n      <th>3</th>\n      <td>-0.347922</td>\n      <td>-0.248027</td>\n      <td>-0.565245</td>\n      <td>-0.046644</td>\n      <td>0.443026</td>\n      <td>-0.350205</td>\n      <td>0.484661</td>\n      <td>1.272445</td>\n      <td>0.773244</td>\n      <td>0.581180</td>\n      <td>...</td>\n      <td>-0.160010</td>\n      <td>-0.025702</td>\n      <td>-0.164364</td>\n      <td>-0.170935</td>\n      <td>-0.317325</td>\n      <td>-0.105071</td>\n      <td>-0.055724</td>\n      <td>-0.060834</td>\n      <td>-0.161954</td>\n      <td>spam</td>\n    </tr>\n    <tr>\n      <th>4</th>\n      <td>-0.347922</td>\n      <td>-0.248027</td>\n      <td>-0.565245</td>\n      <td>-0.046644</td>\n      <td>0.443026</td>\n      <td>-0.350205</td>\n      <td>0.484661</td>\n      <td>1.272445</td>\n      <td>0.773244</td>\n      <td>0.581180</td>\n      <td>...</td>\n      <td>-0.160010</td>\n      <td>-0.032996</td>\n      <td>-0.164364</td>\n      <td>-0.173306</td>\n      <td>-0.317325</td>\n      <td>-0.105071</td>\n      <td>-0.055724</td>\n      <td>-0.060834</td>\n      <td>-0.161954</td>\n      <td>spam</td>\n    </tr>\n  </tbody>\n</table>\n<p>5 rows × 58 columns</p>\n</div>"
     },
     "execution_count": 20,
     "metadata": {},
     "output_type": "execute_result"
    }
   ],
   "source": [
    "# Load the cleaned dataset\n",
    "data = pd.read_csv('cleaned_spambase.csv')\n",
    "data.head()\n"
   ],
   "metadata": {
    "collapsed": false
   }
  },
  {
   "cell_type": "code",
   "execution_count": 21,
   "outputs": [],
   "source": [
    "# Split the data into training and testing sets\n",
    "X = df.iloc[:, :-1]\n",
    "y = df.iloc[:, -1]\n",
    "X_train, X_test, y_train, y_test = train_test_split(X, y, test_size=0.2, random_state=42)"
   ],
   "metadata": {
    "collapsed": false
   }
  },
  {
   "cell_type": "code",
   "execution_count": 22,
   "outputs": [
    {
     "data": {
      "text/plain": "DecisionTreeClassifier(max_depth=9, random_state=0)"
     },
     "execution_count": 22,
     "metadata": {},
     "output_type": "execute_result"
    }
   ],
   "source": [
    "# Create a decision tree classifier\n",
    "dt = DecisionTreeClassifier(random_state=0,criterion='gini',max_depth=9)\n",
    "\n",
    "# Fit the model to the training data\n",
    "dt.fit(X_train, y_train)"
   ],
   "metadata": {
    "collapsed": false
   }
  },
  {
   "cell_type": "code",
   "execution_count": 23,
   "outputs": [],
   "source": [
    "# Make predictions on the testing data\n",
    "y_pred = dt.predict(X_test)"
   ],
   "metadata": {
    "collapsed": false
   }
  },
  {
   "cell_type": "code",
   "execution_count": 24,
   "outputs": [
    {
     "name": "stdout",
     "output_type": "stream",
     "text": [
      "              precision    recall  f1-score   support\n",
      "\n",
      "    non-spam       0.91      0.95      0.93       483\n",
      "        spam       0.93      0.87      0.90       359\n",
      "\n",
      "    accuracy                           0.92       842\n",
      "   macro avg       0.92      0.91      0.92       842\n",
      "weighted avg       0.92      0.92      0.92       842\n",
      "\n",
      "[[461  22]\n",
      " [ 46 313]]\n"
     ]
    }
   ],
   "source": [
    "from sklearn.metrics import classification_report ,confusion_matrix\n",
    "print(classification_report(y_test,y_pred))\n",
    "print(confusion_matrix(y_test,y_pred))"
   ],
   "metadata": {
    "collapsed": false
   }
  },
  {
   "cell_type": "code",
   "execution_count": 24,
   "outputs": [],
   "source": [],
   "metadata": {
    "collapsed": false
   }
  }
 ],
 "metadata": {
  "kernelspec": {
   "display_name": "Python 3",
   "language": "python",
   "name": "python3"
  },
  "language_info": {
   "codemirror_mode": {
    "name": "ipython",
    "version": 2
   },
   "file_extension": ".py",
   "mimetype": "text/x-python",
   "name": "python",
   "nbconvert_exporter": "python",
   "pygments_lexer": "ipython2",
   "version": "2.7.6"
  }
 },
 "nbformat": 4,
 "nbformat_minor": 0
}
